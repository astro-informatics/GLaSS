{
 "cells": [
  {
   "cell_type": "code",
   "execution_count": 3,
   "metadata": {},
   "outputs": [],
   "source": [
    "from matplotlib import pyplot as plt"
   ]
  },
  {
   "cell_type": "code",
   "execution_count": 12,
   "metadata": {},
   "outputs": [],
   "source": [
    "#compute tomographic lensing spectra"
   ]
  },
  {
   "cell_type": "code",
   "execution_count": 13,
   "metadata": {},
   "outputs": [
    {
     "name": "stdout",
     "output_type": "stream",
     "text": [
      "\n",
      "Parameter Priors\n",
      "----------------\n",
      "cosmological_parameters--omega_m  ~ delta(0.315)\n",
      "cosmological_parameters--h0       ~ delta(0.67)\n",
      "cosmological_parameters--omega_b  ~ delta(0.04)\n",
      "cosmological_parameters--tau      ~ delta(0.08)\n",
      "cosmological_parameters--n_s      ~ delta(0.96)\n",
      "cosmological_parameters--a_s      ~ delta(2.1e-09)\n",
      "cosmological_parameters--w        ~ delta(-1.0)\n",
      "cosmological_parameters--wa       ~ delta(0.0)\n",
      "\n",
      "You are running GLaSS!\n",
      "CAUTION: You have not specified a value for c_cal\n",
      "CAUTION: You have not specified a value for z_bias\n",
      "CAUTION: You have not specified a value for A_sigma\n",
      "CAUTION: You have not specified a value for limber_begin\n",
      "CAUTION: You are using equal number of gals per bin\n",
      "False\n",
      "CAUTION: You have not specified a value for rms_ellipticity\n",
      "CAUTION: You have not specified a value for number_of_galaxies\n",
      "Power Spectra will be read from the pipeline.\n",
      "To read from file set read_from_file = True\n",
      "Module timing:\n",
      "consistency 0.004823\n",
      "camb 0.001952\n",
      "halofit 0.004704\n",
      "glass 0.010340\n",
      "consistency took: 0.076 seconds\n",
      "camb took: 2.336 seconds\n",
      "halofit took: 0.869 seconds\n",
      "glass took: 0.518 seconds\n",
      "Total pipeline time: 3.8 seconds\n"
     ]
    }
   ],
   "source": [
    "run run_tomographic_demo.py"
   ]
  },
  {
   "cell_type": "code",
   "execution_count": 14,
   "metadata": {},
   "outputs": [],
   "source": [
    "'''GLaSS uses the convention that the signal and noise are scaled by Number of galaxies ^2 in the\n",
    "tomographic case, so we will rescale the lensing spectra to recover the usual conventions '''\n",
    "number_of_galaxies = 1.6e9\n",
    "c_l_storage_array = c_l_storage_array / 1.6e9 ** 2."
   ]
  },
  {
   "cell_type": "code",
   "execution_count": 23,
   "metadata": {},
   "outputs": [],
   "source": [
    "#get the (4,4)-bin for each l-mode\n",
    "number_l_modes = np.shape(l_input_array)[0]\n",
    "number_tomo_bins = 10\n",
    "c_l_4_4 = np.zeros(number_l_modes)\n",
    "for i in range(number_l_modes):\n",
    "    c_l_4_4[i] = c_l_storage_array[3, 10 * i + 3]"
   ]
  },
  {
   "cell_type": "code",
   "execution_count": 26,
   "metadata": {},
   "outputs": [
    {
     "data": {
      "text/plain": [
       "<matplotlib.text.Text at 0x13afb5e10>"
      ]
     },
     "execution_count": 26,
     "metadata": {},
     "output_type": "execute_result"
    },
    {
     "data": {
      "image/png": "[encoded data removed]",
      "text/plain": [
       "<matplotlib.figure.Figure at 0x13b99ba10>"
      ]
     },
     "metadata": {},
     "output_type": "display_data"
    }
   ],
   "source": [
    "plt.plot(l_input_array, c_l_4_4)\n",
    "plt.xscale('log')\n",
    "plt.yscale('log')\n",
    "plt.xlabel('l')\n",
    "plt.ylabel('c_l')"
   ]
  },
  {
   "cell_type": "code",
   "execution_count": 27,
   "metadata": {},
   "outputs": [],
   "source": [
    "#compute spherical-bessel lensing spectra"
   ]
  },
  {
   "cell_type": "code",
   "execution_count": 28,
   "metadata": {},
   "outputs": [
    {
     "name": "stdout",
     "output_type": "stream",
     "text": [
      "\n",
      "Parameter Priors\n",
      "----------------\n",
      "cosmological_parameters--omega_m  ~ delta(0.315)\n",
      "cosmological_parameters--h0       ~ delta(0.67)\n",
      "cosmological_parameters--omega_b  ~ delta(0.04)\n",
      "cosmological_parameters--tau      ~ delta(0.08)\n",
      "cosmological_parameters--n_s      ~ delta(0.96)\n",
      "cosmological_parameters--a_s      ~ delta(2.1e-09)\n",
      "cosmological_parameters--w        ~ delta(-1.0)\n",
      "cosmological_parameters--wa       ~ delta(0.0)\n",
      "\n",
      "You are running GLaSS!\n",
      "CAUTION: You have not specified a value for c_cal\n",
      "CAUTION: You have not specified a value for z_bias\n",
      "CAUTION: You have not specified a value for A_sigma\n",
      "CAUTION: You have not specified a value for limber_begin\n",
      "CAUTION: You have not specified a value for tomographic\n",
      "False\n",
      "CAUTION: You have not specified a value for num_tomo_bins\n",
      "CAUTION: You have not specified a value for rms_ellipticity\n",
      "CAUTION: You have not specified a value for number_of_galaxies\n",
      "Power Spectra will be read from the pipeline.\n",
      "To read from file set read_from_file = True\n",
      "Module timing:\n",
      "consistency 0.003188\n",
      "camb 0.001661\n",
      "halofit 0.001301\n",
      "glass 29.342964\n",
      "consistency took: 0.067 seconds\n",
      "camb took: 2.285 seconds\n",
      "halofit took: 0.819 seconds\n",
      "glass took: 0.480 seconds\n",
      "Total pipeline time: 3.65 seconds\n"
     ]
    }
   ],
   "source": [
    "run run_spherical_bessel_demo.py"
   ]
  },
  {
   "cell_type": "code",
   "execution_count": 29,
   "metadata": {},
   "outputs": [],
   "source": [
    "'''For computational reasons, GLaSS uses the convention that k is not in units of h. So we need to convert k to be in units of h Mpc ^ -1 '''\n",
    "h0 = 0.67\n",
    "k_samps = k_samps / h0"
   ]
  },
  {
   "cell_type": "code",
   "execution_count": 31,
   "metadata": {},
   "outputs": [
    {
     "name": "stdout",
     "output_type": "stream",
     "text": [
      "75\n"
     ]
    }
   ],
   "source": [
    "#get the value of the 5th l_sample\n",
    "print l_input_array[4]"
   ]
  },
  {
   "cell_type": "code",
   "execution_count": 32,
   "metadata": {},
   "outputs": [],
   "source": [
    "#get the l= 75 C_l(k,k') information. \n",
    "num_k_modes = 200\n",
    "c_75 = c_l_storage_array[:, 200 * 4: 200 * 5]"
   ]
  },
  {
   "cell_type": "code",
   "execution_count": 40,
   "metadata": {},
   "outputs": [
    {
     "data": {
      "text/plain": [
       "<matplotlib.text.Text at 0x118bfb290>"
      ]
     },
     "execution_count": 40,
     "metadata": {},
     "output_type": "execute_result"
    },
    {
     "data": {
      "image/png": "[encoded data removed]",
      "text/plain": [
       "<matplotlib.figure.Figure at 0x1190615d0>"
      ]
     },
     "metadata": {},
     "output_type": "display_data"
    }
   ],
   "source": [
    "#plot c_75. There is noise since we are only using\n",
    "#a computation resolution of 200. This is way too low \n",
    "#for spherical bessel\n",
    "plt.pcolormesh(k_samps, k_samps, c_75.T)\n",
    "plt.xscale('log')\n",
    "plt.yscale('log')\n",
    "plt.xlabel('k')\n",
    "plt.ylabel('k')"
   ]
  },
  {
   "cell_type": "code",
   "execution_count": 38,
   "metadata": {},
   "outputs": [],
   "source": [
    "#compute spectra with an arbitrary weight "
   ]
  },
  {
   "cell_type": "code",
   "execution_count": 39,
   "metadata": {},
   "outputs": [
    {
     "name": "stdout",
     "output_type": "stream",
     "text": [
      "\n",
      "Parameter Priors\n",
      "----------------\n",
      "cosmological_parameters--omega_m  ~ delta(0.315)\n",
      "cosmological_parameters--h0       ~ delta(0.67)\n",
      "cosmological_parameters--omega_b  ~ delta(0.04)\n",
      "cosmological_parameters--tau      ~ delta(0.08)\n",
      "cosmological_parameters--n_s      ~ delta(0.96)\n",
      "cosmological_parameters--a_s      ~ delta(2.1e-09)\n",
      "cosmological_parameters--w        ~ delta(-1.0)\n",
      "cosmological_parameters--wa       ~ delta(0.0)\n",
      "\n",
      "You are running GLaSS!\n",
      "CAUTION: You have not specified a value for c_cal\n",
      "CAUTION: You have not specified a value for z_bias\n",
      "CAUTION: You have not specified a value for A_sigma\n",
      "CAUTION: You have not specified a value for limber_begin\n",
      "CAUTION: You have not specified a value for tomographic\n",
      "False\n",
      "CAUTION: You have not specified a value for rms_ellipticity\n",
      "CAUTION: You have not specified a value for number_of_galaxies\n",
      "Power Spectra will be read from the pipeline.\n",
      "To read from file set read_from_file = True\n",
      "Module timing:\n",
      "consistency 0.003584\n",
      "camb 0.002365\n",
      "halofit 0.002913\n",
      "glass 29.162987\n",
      "consistency took: 0.070 seconds\n",
      "camb took: 2.540 seconds\n",
      "halofit took: 0.849 seconds\n",
      "glass took: 0.475 seconds\n",
      "Total pipeline time: 3.93 seconds\n",
      "computing and saving the weights\n",
      "\n",
      "Parameter Priors\n",
      "----------------\n",
      "cosmological_parameters--omega_m  ~ delta(0.315)\n",
      "cosmological_parameters--h0       ~ delta(0.67)\n",
      "cosmological_parameters--omega_b  ~ delta(0.04)\n",
      "cosmological_parameters--tau      ~ delta(0.08)\n",
      "cosmological_parameters--n_s      ~ delta(0.96)\n",
      "cosmological_parameters--a_s      ~ delta(2.1e-09)\n",
      "cosmological_parameters--w        ~ delta(-1.0)\n",
      "cosmological_parameters--wa       ~ delta(0.0)\n",
      "\n",
      "You are running GLaSS!\n",
      "You are using weighted lensing\n",
      "CAUTION: You have not specified a value for c_cal\n",
      "CAUTION: You have not specified a value for z_bias\n",
      "CAUTION: You have not specified a value for A_sigma\n",
      "CAUTION: You have not specified a value for limber_begin\n",
      "CAUTION: You have not specified a value for tomographic\n",
      "False\n",
      "CAUTION: You have not specified a value for rms_ellipticity\n",
      "CAUTION: You have not specified a value for number_of_galaxies\n",
      "Power Spectra will be read from the pipeline.\n",
      "To read from file set read_from_file = True\n",
      "you are loading the weights\n",
      "Module timing:\n",
      "consistency 0.002512\n",
      "camb 0.001579\n",
      "halofit 0.001307\n",
      "glass 31.629375\n",
      "consistency took: 0.075 seconds\n",
      "camb took: 2.301 seconds\n",
      "halofit took: 0.807 seconds\n",
      "glass took: 0.551 seconds\n",
      "Total pipeline time: 3.74 seconds\n"
     ]
    }
   ],
   "source": [
    "run run_weight_demo.py"
   ]
  },
  {
   "cell_type": "code",
   "execution_count": null,
   "metadata": {},
   "outputs": [],
   "source": []
  }
 ],
 "metadata": {
  "kernelspec": {
   "display_name": "Python 2",
   "language": "python",
   "name": "python2"
  },
  "language_info": {
   "codemirror_mode": {
    "name": "ipython",
    "version": 2
   },
   "file_extension": ".py",
   "mimetype": "text/x-python",
   "name": "python",
   "nbconvert_exporter": "python",
   "pygments_lexer": "ipython2",
   "version": "2.7.12"
  }
 },
 "nbformat": 4,
 "nbformat_minor": 2
}
